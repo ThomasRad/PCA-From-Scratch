{
 "cells": [
  {
   "cell_type": "markdown",
   "metadata": {},
   "source": [
    "# Following Along YouTube Tutorial"
   ]
  },
  {
   "cell_type": "code",
   "execution_count": 5,
   "metadata": {},
   "outputs": [],
   "source": [
    "# Import \n",
    "\n",
    "import numpy as np"
   ]
  },
  {
   "cell_type": "code",
   "execution_count": 6,
   "metadata": {},
   "outputs": [],
   "source": [
    "# Define our PCA Class.\n",
    "\n",
    "class PCA:\n",
    "    \n",
    "    def __init__(self, n_components):\n",
    "        \n",
    "        self.n_components = n_components\n",
    "        self.components = None\n",
    "        self.mean = None\n",
    "    \n",
    "    def fit(self, x):\n",
    "        \n",
    "        # Mean\n",
    "        \n",
    "        self.mean = np.mean(x, axis = 0)\n",
    "        x = x - self.mean\n",
    "        \n",
    "        # Covariance Matrix\n",
    "        \n",
    "        cov = np.cov(x.T)\n",
    "        \n",
    "        # eigen Vectors, and values\n",
    "        \n",
    "        eigenvalues, eigenvectors = np.linalg.eig(cov)\n",
    "        \n",
    "        # sort the vectors\n",
    "        \n",
    "        eigenvectors = eigenvectors.T\n",
    "        \n",
    "        # Decending Order\n",
    "        \n",
    "        indexes = np.argsort(eigenvalues)[:: -1]\n",
    "        \n",
    "        # Now we use our sorting to get the values and vectors. \n",
    "        \n",
    "        eigenvalues = eigenvalues[indexes]\n",
    "        eigenvectors = eigenvectors[indexes]\n",
    "        \n",
    "        # Store only the first n vectors\n",
    "        \n",
    "        self.components = eigenvectors[0:self.n_components]\n",
    "        \n",
    "    \n",
    "    def transform(self,x):\n",
    "        \n",
    "        # Project the Data\n",
    "        \n",
    "        x = x - self.mean\n",
    "        return np.dot(x,self.components.T)\n",
    "    \n",
    "        "
   ]
  }
 ],
 "metadata": {
  "kernelspec": {
   "display_name": "Python 3",
   "language": "python",
   "name": "python3"
  },
  "language_info": {
   "codemirror_mode": {
    "name": "ipython",
    "version": 3
   },
   "file_extension": ".py",
   "mimetype": "text/x-python",
   "name": "python",
   "nbconvert_exporter": "python",
   "pygments_lexer": "ipython3",
   "version": "3.7.6"
  }
 },
 "nbformat": 4,
 "nbformat_minor": 4
}
